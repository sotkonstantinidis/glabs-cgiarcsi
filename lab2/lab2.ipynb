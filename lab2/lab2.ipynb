{
 "cells": [
  {
   "cell_type": "markdown",
   "metadata": {},
   "source": [
    "<h3>Lab 1</h3>\n",
    "<p>Original source can be found <a href=\"https://gfc.ucdavis.edu/events/ifpri/html/spatial.html\">here</a></p>"
   ]
  },
  {
   "cell_type": "markdown",
   "metadata": {},
   "source": [
    "We are going to extract annual average rainfall in Tanzania for all years (that we have data for) of Tanzania\n",
    "We are using a raster data that covers Tanzania and more and has monthly data. \n",
    "Later on we will use these data to see if variation in rainfall predicts variation in maize yield.\n",
    "\n",
    "You do not have to fill in very much. But take your time to see what is going on\n"
   ]
  },
  {
   "cell_type": "code",
   "execution_count": null,
   "metadata": {},
   "outputs": [],
   "source": [
    "#import libraries\n",
    "library(sp)\n",
    "library(geojsonio)\n",
    "library(raster)"
   ]
  },
  {
   "cell_type": "code",
   "execution_count": null,
   "metadata": {},
   "outputs": [],
   "source": [
    "# where is the monthly precipitation data ?\n",
    "path <- \"./climate/prec\""
   ]
  },
  {
   "cell_type": "code",
   "execution_count": null,
   "metadata": {},
   "outputs": [],
   "source": [
    "# get a vector of all the relevant files\n",
    "ff <- list.files(path, pattern='.tif$', full.names=TRUE)"
   ]
  },
  {
   "cell_type": "code",
   "execution_count": null,
   "metadata": {},
   "outputs": [],
   "source": [
    "# we want them in order. In this case, sort works (not always!)\n",
    "s <- stack(sort(ff))\n",
    "# you shoul have 408 layers\n",
    "s"
   ]
  },
  {
   "cell_type": "code",
   "execution_count": null,
   "metadata": {},
   "outputs": [],
   "source": [
    "# let's plot\n",
    "plot(s)\n",
    "# (by default, only the first 16 are plotted)"
   ]
  },
  {
   "cell_type": "code",
   "execution_count": null,
   "metadata": {},
   "outputs": [],
   "source": [
    "# let's look at the mean for each month\n",
    "# we use the stackApply function. We tell it to make 12 layers (by combining the 1st, with the 13th, 25th, etc. layer --- recycling at work).\n",
    "rainmonth <- stackApply(s, 1:12, mean)"
   ]
  },
  {
   "cell_type": "code",
   "execution_count": null,
   "metadata": {},
   "outputs": [],
   "source": [
    "# set the right names\n",
    "names(rainmonth) <- month.name\n",
    "\n",
    "rainmonth\n",
    "plot(rainmonth)"
   ]
  },
  {
   "cell_type": "code",
   "execution_count": null,
   "metadata": {},
   "outputs": [],
   "source": [
    "# compute the annual average total rainfall\n",
    "rain <- sum(rainmonth)\n",
    "plot(rain)"
   ]
  },
  {
   "cell_type": "code",
   "execution_count": null,
   "metadata": {},
   "outputs": [],
   "source": [
    "# and the monthly mean precipitation averaged over all cells\n",
    "mrain <- cellStats(rainmonth, mean)\n",
    "barplot(mrain)"
   ]
  },
  {
   "cell_type": "markdown",
   "metadata": {},
   "source": [
    "<p>We want to compare annual maize yield with annual rainfall.</p>\n",
    "<p>the Tanzania dry season is in the middle of the year \n",
    "it may be better to have \"rain-years\" that start in July and run through June\n",
    "that is a bit tricky</p>"
   ]
  }
 ],
 "metadata": {
  "kernelspec": {
   "display_name": "R",
   "language": "R",
   "name": "ir"
  },
  "language_info": {
   "codemirror_mode": "r",
   "file_extension": ".r",
   "mimetype": "text/x-r-source",
   "name": "R",
   "pygments_lexer": "r",
   "version": "3.6.2"
  }
 },
 "nbformat": 4,
 "nbformat_minor": 4
}
