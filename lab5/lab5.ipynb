{
 "cells": [
  {
   "cell_type": "markdown",
   "metadata": {},
   "source": [
    "<h3>Analogues</h3>\n",
    "<p>The library can and the following examples can be found <a href=\"https://github.com/CIAT-DAPA/analogues\">here</a></p>"
   ]
  },
  {
   "cell_type": "code",
   "execution_count": null,
   "metadata": {},
   "outputs": [],
   "source": [
    "library(analogues)\n",
    "data(climstack)\n",
    "\n",
    "#create parameters\n",
    "params <- createParameters(x=-75.5, y=3.2, vars=c(\"prec\",\"tmean\"),weights=c(0.5,0.5),\n",
    "                           ndivisions=c(12,12),growing.season=c(1,12),rotation=\"tmean\",threshold=1,\n",
    "                           env.data.ref=list(prec,tavg), env.data.targ=list(prec,tavg),\n",
    "                           outfile=\"~/.\",fname=NA,writefile=FALSE)\n",
    "\n",
    "#calculate similarity\n",
    "sim_out <- calc_similarity(params)\n",
    "\n",
    "#now you can plot the result\n",
    "plot(sim_out)\n",
    "\n",
    "#or save the result\n",
    "writeRaster(sim_out,\"./analogues_output.tif\")"
   ]
  },
  {
   "cell_type": "code",
   "execution_count": null,
   "metadata": {},
   "outputs": [],
   "source": [
    "#download global future precipitation (monthly) for RCP 4.5, year 2030, at 10 arc-min spatial resolution\n",
    "mydata1 <- getCMIP5(var=\"prec\", rcp=4.5, model=10, year=2030, res=10, path='.')\n",
    "\n",
    "#plot the 12 layers\n",
    "plot(mydata1)\n",
    "\n",
    "#download future precipitation (monthly) for RCP 4.5, year 2030, at 30 arc-sec spatial resolution\n",
    "#use lon,lat to specify a location within your area of interest. We will search the right data tile.\n",
    "mydata2 <- getCMIP5(var=\"prec\", rcp=4.5, model=10, year=2030, res=0.5, lon=-75, lat=3, path='.')\n",
    "\n",
    "#plot month 6\n",
    "plot(mydata2[[6]])"
   ]
  }
 ],
 "metadata": {
  "kernelspec": {
   "display_name": "R",
   "language": "R",
   "name": "ir"
  },
  "language_info": {
   "codemirror_mode": "r",
   "file_extension": ".r",
   "mimetype": "text/x-r-source",
   "name": "R",
   "pygments_lexer": "r",
   "version": "3.6.2"
  }
 },
 "nbformat": 4,
 "nbformat_minor": 4
}
