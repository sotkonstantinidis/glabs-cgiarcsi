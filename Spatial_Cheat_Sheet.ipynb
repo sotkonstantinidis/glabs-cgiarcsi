{
 "cells": [
  {
   "cell_type": "markdown",
   "metadata": {},
   "source": [
    "<h3>Spatial Cheat sheet</h3>\n",
    "<p>original source is available <a href=\"https://www.maths.lancs.ac.uk/~rowlings/Teaching/UseR2012/cheatsheet.html\">here</a></p>"
   ]
  },
  {
   "cell_type": "markdown",
   "metadata": {
    "toc-hr-collapsed": false
   },
   "source": [
    "<h2>1. Packages</h2>"
   ]
  },
  {
   "cell_type": "code",
   "execution_count": null,
   "metadata": {},
   "outputs": [],
   "source": [
    "library(sp)  # vector data\n",
    "library(raster)  # raster data\n",
    "library(rgdal)  # input/output, projections\n",
    "library(rgeos)  # geometry ops\n",
    "library(spdep)  # spatial dependence"
   ]
  },
  {
   "cell_type": "markdown",
   "metadata": {
    "toc-hr-collapsed": false
   },
   "source": [
    "<h2>2. Points</h2>"
   ]
  },
  {
   "cell_type": "code",
   "execution_count": null,
   "metadata": {},
   "outputs": [],
   "source": [
    "# points from scratch\n",
    "coords = cbind(x, y)\n",
    "sp = SpatialPoints(coords)\n",
    "# make spatial data frame\n",
    "spdf = SpatialPointsDataFrame(coords, data)\n",
    "spdf = SpatialPointsDataFrame(sp, data)\n",
    "# promote data frame to spatial\n",
    "coordinates(data) = cbind(x, y)\n",
    "coordinates(data) = ~lon + lat\n",
    "# back to data\n",
    "as.data.frame(data)\n",
    "##      lon   lat Z\n",
    "## 1 11.515 24.52 d\n",
    "## 2  7.056 27.11 a\n",
    "## 3 12.945 30.09 c\n",
    "## 4 12.793 24.72 e\n",
    "## 5 12.888 28.24 b\n",
    "data@data\n",
    "##   Z\n",
    "## 1 d\n",
    "## 2 a\n",
    "## 3 c\n",
    "## 4 e\n",
    "## 5 b\n",
    "bbox(spdf)\n",
    "##      min   max\n",
    "## x  7.056 12.94\n",
    "## y 24.520 30.09"
   ]
  },
  {
   "cell_type": "markdown",
   "metadata": {
    "toc-hr-collapsed": false
   },
   "source": [
    "<h2>3. Lines</h2>"
   ]
  },
  {
   "cell_type": "code",
   "execution_count": null,
   "metadata": {},
   "outputs": [],
   "source": [
    "c1 = cbind(x1, y1)\n",
    "c2 = cbind(x2, y2)\n",
    "c3 = cbind(x3, y3)\n",
    "\n",
    "# simple line strings\n",
    "L1 = Line(c1)\n",
    "L2 = Line(c2)\n",
    "L3 = Line(c3)\n",
    "\n",
    "# single/multiple line strings\n",
    "Ls1 = Lines(list(L1), ID = \"a\")\n",
    "Ls2 = Lines(list(L2, L3), ID = \"b\")\n",
    "\n",
    "# with spatial nature\n",
    "SL1 = SpatialLines(list(Ls1))\n",
    "SL12 = SpatialLines(list(Ls1, Ls2))\n",
    "\n",
    "# made into spatial data frame\n",
    "SLDF = SpatialLinesDataFrame(SL12, data.frame(Z = c(\"Road\", \"River\"), row.names = c(\"a\",\n",
    "    \"b\")))\n",
    "\n",
    "as.data.frame(SLDF)\n",
    "##       Z\n",
    "## a  Road\n",
    "## b River\n",
    "SpatialLinesLengths(SLDF)\n",
    "## [1] 2.414 4.828"
   ]
  },
  {
   "cell_type": "markdown",
   "metadata": {
    "toc-hr-collapsed": true
   },
   "source": [
    "<h2>4. Polygons</h2>"
   ]
  },
  {
   "cell_type": "code",
   "execution_count": null,
   "metadata": {},
   "outputs": [],
   "source": [
    "# single ring feature\n",
    "c1 = cbind(x1, y1)\n",
    "r1 = rbind(c1, c1[1, ])  # join\n",
    "P1 = Polygon(r1)\n",
    "Ps1 = Polygons(list(P1), ID = \"a\")\n",
    "\n",
    "# double ring feature\n",
    "c2a = cbind(x2a, y2a)\n",
    "r2a = rbind(c2a, c2a[1, ])\n",
    "c2b = cbind(x2b, y2b)\n",
    "r2b = rbind(c2b, c2b[1, ])\n",
    "\n",
    "P2a = Polygon(r2a)\n",
    "P2b = Polygon(r2b)\n",
    "Ps2 = Polygons(list(P2a, P2b), ID = \"b\")\n",
    "\n",
    "# Spatial Polygons Data Frame\n",
    "SPs = SpatialPolygons(list(Ps1, Ps2))\n",
    "\n",
    "SPDF = SpatialPolygonsDataFrame(SPs, data.frame(N = c(\"one\", \"two\"), row.names = c(\"a\", \"b\")))\n",
    "SPDF@data\n",
    "##     N\n",
    "## a one\n",
    "## b two\n",
    "# single ring with hole\n",
    "hc1 = cbind(xh1, yh1)\n",
    "hr1 = rbind(hc1, hc1[1, ])\n",
    "H1 = Polygon(hr1, hole = TRUE)\n",
    "P1h = Polygons(list(P1, H1), ID = \"c\")\n",
    "SP1h = SpatialPolygons(list(P1h))\n",
    "# plot(SP1h,usePolypath=TRUE)"
   ]
  },
  {
   "cell_type": "markdown",
   "metadata": {
    "toc-hr-collapsed": true
   },
   "source": [
    "<h2>4. Raster</h2>"
   ]
  },
  {
   "cell_type": "code",
   "execution_count": null,
   "metadata": {},
   "outputs": [],
   "source": [
    "# from x,y,z-matrix\n",
    "r1 = raster(list(x = x, y = y, z = z))\n",
    "# rows and columns values\n",
    "r1[, 3]\n",
    "##  [1] 0.7377 0.3342 0.6924 0.3482 0.2972 0.8148 0.8212 0.5362 0.8750 0.9808 0.2729\n",
    "r1[2, ]\n",
    "##  [1] 0.40396 0.79350 0.33422 0.25095 0.64577 0.88173 0.50432 0.73244 0.98500 0.13277 0.59993 0.04035\n",
    "extent(r1)\n",
    "## class       : Extent \n",
    "## xmin        : 22.95 \n",
    "## xmax        : 29.45 \n",
    "## ymin        : 44 \n",
    "## ymax        : 46.3 \n",
    "dim(r1)\n",
    "## [1] 11 12  1\n",
    "# create empty, then fill\n",
    "r2 = raster(nrows = nrows, ncols = ncols, xmn = xmn, xmx = xmx, ymn = ymn, ymx = ymx)\n",
    "r2[] = runif(nrows * ncols)\n",
    "\n",
    "# create from extent, then set values\n",
    "r3 = raster(extent(r2), nrows = nrows, ncols = ncols)\n",
    "values(r3) = runif(nrows * ncols)\n",
    "\n",
    "# multi-band stack\n",
    "s1 = stack(list(r1, r2, r3))\n",
    "dim(s1)\n",
    "## [1] 11 12  3\n",
    "# multi-band brick\n",
    "b1 = brick(list(r1, r2, r3))"
   ]
  },
  {
   "cell_type": "markdown",
   "metadata": {
    "toc-hr-collapsed": false
   },
   "source": [
    "<h2>5. Coordinates</h2>"
   ]
  },
  {
   "cell_type": "code",
   "execution_count": null,
   "metadata": {},
   "outputs": [],
   "source": [
    "# EPSG strings\n",
    "latlong = \"+init=epsg:4326\"\n",
    "ukgrid = \"+init=epsg:27700\"\n",
    "google = \"+init=epsg:3857\"\n",
    "\n",
    "# Spatial*\n",
    "proj4string(SPDF)\n",
    "## [1] NA\n",
    "proj4string(SPDF) = CRS(latlong)\n",
    "SL1 = SpatialLines(list(Ls1), proj4string = CRS(latlong))\n",
    "\n",
    "# Raster CRS\n",
    "projection(r1)\n",
    "## [1] \"NA\"\n",
    "# - assign or set on creation\n",
    "projection(r1) = CRS(latlong)\n",
    "r1 = raster(list(x = x, y = y, z = z), crs = latlong)\n",
    "\n",
    "# Transform Spatial*\n",
    "SPtrans = spTransform(SPDF, CRS(google))\n",
    "\n",
    "# Transform/Warp Raster\n",
    "rTrans = projectRaster(r1, crs = google)"
   ]
  },
  {
   "cell_type": "markdown",
   "metadata": {
    "toc-hr-collapsed": true
   },
   "source": [
    "<h2>5. I/O</h2>"
   ]
  },
  {
   "cell_type": "code",
   "execution_count": null,
   "metadata": {},
   "outputs": [],
   "source": [
    "# -- vectors\n",
    "\n",
    "# avoid - doesn't read CRS\n",
    "library(maptools)\n",
    "shapes = readShapeSpatial(\"data.shp\")\n",
    "\n",
    "# read/write shapefiles (and others)\n",
    "#  - list formats\n",
    "ogrDrivers()\n",
    "shapes = readOGR(\".\", \"data\")\n",
    "writeOGR(shapes, \".\", \"data\", \"ESRI Shapefile\")\n",
    "writeOGR(shapes, \"towns.kml\", \"towns\", \"KML\")\n",
    "\n",
    "# -- rasters\n",
    "\n",
    "# creates SpatialGrid objects\n",
    "r = readGDAL(\"data.tif\")\n",
    "\n",
    "# create Rasters/Brick objects from files\n",
    "r = raster(\"data.tif\")\n",
    "# - write Raster to GeoTIFF\n",
    "writeRaster(r, \"data2.tif\", \"GTiff\")\n",
    "# - supported formats\n",
    "writeFormats()\n",
    "# or for Google Earth\n",
    "KML(r, \"r.kmz\")"
   ]
  },
  {
   "cell_type": "markdown",
   "metadata": {
    "toc-hr-collapsed": true
   },
   "source": [
    "<h2>6. Manipulation</h2>"
   ]
  },
  {
   "cell_type": "code",
   "execution_count": null,
   "metadata": {},
   "outputs": [],
   "source": [
    "# Spatial*DataFrames\n",
    "#\n",
    "# subset(Towns,pop>29000) doesn't work\n",
    "BigTowns = subset(Towns, Towns$pop > 29000)\n",
    "BigTowns = Towns[Towns$pop > 29000, ]\n",
    "BigAndSmall = rbind(BigTowns, SmallTowns)\n",
    "\n",
    "# points in zones\n",
    "Towns[1:10, ] %over% Zones\n",
    "##  [1]  1 NA  2 NA NA  2 NA NA NA  1\n",
    "# rasters\n",
    "# - sample points\n",
    "vpt = extract(r1, sPoints)\n",
    "# - sample polygons\n",
    "vpoly = extract(r1, sPolys)\n",
    "# - crop an area\n",
    "e = extent(raster(xmn = 25, xmx = 27, ymn = 44.5, ymx = 45.5))\n",
    "cr1 = crop(r1, e)"
   ]
  },
  {
   "cell_type": "markdown",
   "metadata": {
    "toc-hr-collapsed": false
   },
   "source": [
    "<h2>7. Plotting</h2>"
   ]
  },
  {
   "cell_type": "code",
   "execution_count": null,
   "metadata": {},
   "outputs": [],
   "source": [
    "# scale colour\n",
    "library(RColorBrewer)\n",
    "palette(brewer.pal(6, \"YlOrRd\"))\n",
    "plot(Towns, col = plotrix:::rescale(Towns$pop, c(1, 6)), pch = 19)\n",
    "\n",
    "# scale size\n",
    "plot(Towns, cex = plotrix:::rescale(Towns$pop, c(1, 4)), pch = 19)\n",
    "\n",
    "# polygons\n",
    "plot(Zones, col = fillColour, border = outlineColour)\n",
    "\n",
    "# sp colours\n",
    "sp.theme(set = TRUE, regions = list(col = colours))\n",
    "spplot(Towns, \"pop\")\n",
    "\n",
    "# rasters\n",
    "plot(r1)\n",
    "\n",
    "# true colour from bricks\n",
    "plotRGB(b1, scale = 1)"
   ]
  },
  {
   "cell_type": "markdown",
   "metadata": {},
   "source": [
    "<h2>8. Links</h2>"
   ]
  },
  {
   "cell_type": "markdown",
   "metadata": {},
   "source": [
    "<ul>\n",
    "    <li>\n",
    "        <a href=\"https://www.maths.lancs.ac.uk/~rowlings/Teaching/UseR2012/cheatsheet.html\" target=\"_blank\">     \n",
    "            Cheat Sheet Original Source\n",
    "        </a>    \n",
    "    </li>\n",
    "    <li>\n",
    "        <a href=\"https://gfc.ucdavis.edu/events/ifpri/html/\" target=\"_blank\">            \n",
    "            Statistical learning and spatial data analysis with R\n",
    "        </a>    \n",
    "    </li>\n",
    "    <li>    \n",
    "        <a href=\"https://gfc.ucdavis.edu/dev/agdasci/open/\" target=\"_blank\">            \n",
    "            Open agricultural research\n",
    "        </a>    \n",
    "    </li>\n",
    "    <li>    \n",
    "        <a href=\"https://ccafs.cgiar.org/tool-climate-analogue-tool#.XlefvSEzbd5\" target=\"_blank\">            \n",
    "            CCAFS analogues project\n",
    "        </a>    \n",
    "    </li>\n",
    "    <li>    \n",
    "        <a href=\"https://github.com/CIAT-DAPA/analogues\" target=\"_blank\">            \n",
    "            CCAFS analogues library\n",
    "        </a>    \n",
    "    </li>\n",
    "    <li>    \n",
    "        <a href=\"https://github.com/agrobioinfoservices\" target=\"_blank\">            \n",
    "            Enhanced Crop Genetic Resources Conservation and Use\n",
    "        </a>    \n",
    "    </li>\n",
    "</ul>"
   ]
  },
  {
   "cell_type": "code",
   "execution_count": null,
   "metadata": {},
   "outputs": [],
   "source": []
  }
 ],
 "metadata": {
  "kernelspec": {
   "display_name": "R",
   "language": "R",
   "name": "ir"
  },
  "language_info": {
   "codemirror_mode": "r",
   "file_extension": ".r",
   "mimetype": "text/x-r-source",
   "name": "R",
   "pygments_lexer": "r",
   "version": "3.6.2"
  },
  "toc-autonumbering": false,
  "toc-showcode": true,
  "toc-showmarkdowntxt": false
 },
 "nbformat": 4,
 "nbformat_minor": 4
}
