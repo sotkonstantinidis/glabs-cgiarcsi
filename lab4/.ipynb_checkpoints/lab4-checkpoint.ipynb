{
 "cells": [
  {
   "cell_type": "markdown",
   "metadata": {},
   "source": [
    "<h3>Get Data</h3>"
   ]
  },
  {
   "cell_type": "code",
   "execution_count": null,
   "metadata": {},
   "outputs": [],
   "source": [
    "library(readxl)"
   ]
  },
  {
   "cell_type": "code",
   "execution_count": null,
   "metadata": {},
   "outputs": [],
   "source": [
    "## New names:\n",
    "## * `Number of lines` -> `Number of lines...19`\n",
    "## * `Number of lines` -> `Number of lines...31`\n",
    "## Responses of upland NERICA rice varieties to nitrogen and plant density\n",
    "d <- read_xlsx(\"./ResponsesofuplandNERICAricevarietiestonitrogenandplantdensity.xlsx\", skip = 22)"
   ]
  },
  {
   "cell_type": "code",
   "execution_count": null,
   "metadata": {},
   "outputs": [],
   "source": [
    "colnames(d)[c(12, 30)]\n",
    "## [1] \"Height Mat (cm)\"\n",
    "## [2] \"Adjusted 14% grains dry weight kg/ha\"\n",
    "colnames(d)[12] <- \"height\"\n",
    "colnames(d)[30] <- \"yield\"\n",
    "colnames(d)[c(12, 30)]\n",
    "## [1] \"height\" \"yield\""
   ]
  },
  {
   "cell_type": "code",
   "execution_count": null,
   "metadata": {},
   "outputs": [],
   "source": [
    "d$yield <- d$yield / 1000"
   ]
  },
  {
   "cell_type": "code",
   "execution_count": null,
   "metadata": {},
   "outputs": [],
   "source": [
    "table(d$N)\n",
    "##\n",
    "##  0  1  2  3\n",
    "## 36 36 36 36\n",
    "d$N <- c(0,30,60,120)[d$N + 1]\n",
    "table(d$N)\n",
    "##\n",
    "##   0  30  60 120\n",
    "##  36  36  36  36"
   ]
  },
  {
   "cell_type": "code",
   "execution_count": null,
   "metadata": {},
   "outputs": [],
   "source": [
    "table(d$V)\n",
    "##\n",
    "##  1  2  3  4\n",
    "## 36 36 36 36\n",
    "d$V <- c(\"Nerica 1\", \"Nerica 2\", \"Nerica 3\", \"WAB 56-104\")[d$V]\n",
    "table(d$V)\n",
    "##\n",
    "##   Nerica 1   Nerica 2   Nerica 3 WAB 56-104\n",
    "##         36         36         36         36"
   ]
  },
  {
   "cell_type": "code",
   "execution_count": null,
   "metadata": {},
   "outputs": [],
   "source": [
    "table(d$D)\n",
    "##\n",
    "##  1  2  3\n",
    "## 48 48 48\n",
    "d$D <- c(\"dib30\", \"dib20\", \"drill\")[d$D]\n",
    "table(d$D)\n",
    "##\n",
    "## dib20 dib30 drill\n",
    "##    48    48    48"
   ]
  },
  {
   "cell_type": "markdown",
   "metadata": {},
   "source": [
    "<h3>Explore data</h3>"
   ]
  },
  {
   "cell_type": "code",
   "execution_count": null,
   "metadata": {},
   "outputs": [],
   "source": [
    "d$D <- as.factor(d$D)\n",
    "d$V <- as.factor(d$V)"
   ]
  },
  {
   "cell_type": "code",
   "execution_count": null,
   "metadata": {},
   "outputs": [],
   "source": [
    "m <- lm(height ~ N * D * V + I(N^2), data = d)\n",
    "anova(m)\n",
    "## Analysis of Variance Table\n",
    "##\n",
    "## Response: height\n",
    "##            Df Sum Sq Mean Sq  F value    Pr(>F)\n",
    "## N           1 3331.3  3331.3 122.9677 < 2.2e-16 ***\n",
    "## D           2 2933.7  1466.9  54.1465 < 2.2e-16 ***\n",
    "## V           3  421.6   140.5   5.1875  0.002105 **\n",
    "## I(N^2)      1   92.7    92.7   3.4223  0.066801 .\n",
    "## N:D         2   44.8    22.4   0.8268  0.439949\n",
    "## N:V         3   44.0    14.7   0.5410  0.655118\n",
    "## D:V         6  277.8    46.3   1.7092  0.124622\n",
    "## N:D:V       6  366.8    61.1   2.2569  0.042452 *\n",
    "## Residuals 119 3223.8    27.1\n",
    "## ---\n",
    "## Signif. codes:  0 '***' 0.001 '**' 0.01 '*' 0.05 '.' 0.1 ' ' 1"
   ]
  },
  {
   "cell_type": "code",
   "execution_count": null,
   "metadata": {},
   "outputs": [],
   "source": [
    "boxplot(height ~ N, data = d)"
   ]
  },
  {
   "cell_type": "code",
   "execution_count": null,
   "metadata": {},
   "outputs": [],
   "source": [
    "nols.2q <- function(x, var=\"height\") {\n",
    "    m <- median(x[[var]], na.rm=TRUE)\n",
    "    r <- quantile(x[[var]], c(0.25, 0.75), na.rm=TRUE)\n",
    "    r <- 2 * diff(r)\n",
    "    i <- which(abs(x[[var]] - m) < r)\n",
    "    x[i,]\n",
    "}\n",
    "\n",
    "Nlev <- unique(d$N)\n",
    "out <- vector(length=length(Nlev), mode=\"list\")\n",
    "for (i in 1:length(Nlev)) {\n",
    "  dd <- d[d$N == Nlev[i], ]\n",
    "  out[[i]] <- nols.2q(dd, var=\"height\")\n",
    "}\n",
    "dd <- do.call(rbind, out)\n",
    "\n",
    "boxplot(height ~ N, data = dd)"
   ]
  },
  {
   "cell_type": "code",
   "execution_count": null,
   "metadata": {},
   "outputs": [],
   "source": [
    "height_N <- aggregate(dd[, 'height', drop=FALSE], dd[, 'N', drop=FALSE], mean)\n",
    "\n",
    "# Caculate standard errors (can also use aggregate function here)\n",
    "height_N_sem <- tapply(d$height, d$N, sd) / sqrt(tapply(d$height, d$N, length))\n",
    "\n",
    "# Make the bar plot\n",
    "xp <- barplot(height~N, data=height_N, xlab=\"Nitrogen (kg/ha)\", ylab=\"Plant height (cm)\", ylim = c(0,100), space = 1)\n",
    "\n",
    "box(bty=\"l\")"
   ]
  }
 ],
 "metadata": {
  "kernelspec": {
   "display_name": "R",
   "language": "R",
   "name": "ir"
  },
  "language_info": {
   "codemirror_mode": "r",
   "file_extension": ".r",
   "mimetype": "text/x-r-source",
   "name": "R",
   "pygments_lexer": "r",
   "version": "3.6.2"
  }
 },
 "nbformat": 4,
 "nbformat_minor": 4
}
