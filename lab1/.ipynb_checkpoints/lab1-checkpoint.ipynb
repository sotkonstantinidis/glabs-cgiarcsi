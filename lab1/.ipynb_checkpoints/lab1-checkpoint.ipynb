{
 "cells": [
  {
   "cell_type": "markdown",
   "metadata": {},
   "source": [
    "<h3>Lab 1</h3>\n",
    "<p>Original source can be found <a href=\"https://gfc.ucdavis.edu/events/ifpri/html/spatial.html\">here</a></p>"
   ]
  },
  {
   "cell_type": "code",
   "execution_count": null,
   "metadata": {},
   "outputs": [],
   "source": [
    "We are going to extract annual average rainfall in Tanzania for all years (that we have data for) of Tanzania\n",
    "We are using a raster data that covers Tanzania and more and has monthly data. \n",
    "Later on we will use these data to see if variation in rainfall predicts variation in maize yield.\n",
    "\n",
    "You do not have to fill in very much. But take your time to see what is going on\n"
   ]
  },
  {
   "cell_type": "code",
   "execution_count": 2,
   "metadata": {},
   "outputs": [
    {
     "name": "stderr",
     "output_type": "stream",
     "text": [
      "also installing the dependencies ‘units’, ‘sf’, ‘rgeos’, ‘V8’, ‘geojson’, ‘jqr’\n",
      "\n",
      "\n",
      "Warning message in install.packages(\"geojsonio\"):\n",
      "“installation of package ‘units’ had non-zero exit status”\n",
      "Warning message in install.packages(\"geojsonio\"):\n",
      "“installation of package ‘rgeos’ had non-zero exit status”\n",
      "Warning message in install.packages(\"geojsonio\"):\n",
      "“installation of package ‘V8’ had non-zero exit status”\n",
      "Warning message in install.packages(\"geojsonio\"):\n",
      "“installation of package ‘jqr’ had non-zero exit status”\n",
      "Warning message in install.packages(\"geojsonio\"):\n",
      "“installation of package ‘sf’ had non-zero exit status”\n",
      "Warning message in install.packages(\"geojsonio\"):\n",
      "“installation of package ‘geojson’ had non-zero exit status”\n",
      "Warning message in install.packages(\"geojsonio\"):\n",
      "“installation of package ‘geojsonio’ had non-zero exit status”\n",
      "Updating HTML index of packages in '.Library'\n",
      "\n",
      "Making 'packages.html' ...\n",
      " done\n",
      "\n"
     ]
    },
    {
     "ename": "ERROR",
     "evalue": "Error in library(geojsonio): there is no package called ‘geojsonio’\n",
     "output_type": "error",
     "traceback": [
      "Error in library(geojsonio): there is no package called ‘geojsonio’\nTraceback:\n",
      "1. library(geojsonio)"
     ]
    }
   ],
   "source": [
    "#import libraries\n",
    "library(sp)\n",
    "library(geojsonio)\n",
    "library(raster)"
   ]
  },
  {
   "cell_type": "code",
   "execution_count": null,
   "metadata": {},
   "outputs": [],
   "source": [
    "# where is the monthly precipitation data ?\n",
    "path <- \"./climate/prec\""
   ]
  },
  {
   "cell_type": "code",
   "execution_count": null,
   "metadata": {},
   "outputs": [],
   "source": [
    "# get a vector of all the relevant files\n",
    "ff <- list.files(___________, pattern='.tif$', full.names=___________)"
   ]
  },
  {
   "cell_type": "code",
   "execution_count": null,
   "metadata": {},
   "outputs": [],
   "source": [
    "# we want them in order. In this case, sort works (not always!)\n",
    "s <- stack(sort(ff))\n",
    "# you shoul have 408 layers\n",
    "s"
   ]
  },
  {
   "cell_type": "code",
   "execution_count": null,
   "metadata": {},
   "outputs": [],
   "source": [
    "# let's plot\n",
    "plot(s)\n",
    "# (by default, only the first 16 are plotted)\n",
    "\n",
    "# plot the first three:\n",
    "\n",
    "___________"
   ]
  },
  {
   "cell_type": "code",
   "execution_count": null,
   "metadata": {},
   "outputs": [],
   "source": [
    "# let's look at the mean for each month\n",
    "# we use the stackApply function. We tell it to make 12 layers (by combining the 1st, with the 13th, 25th, etc. layer --- recycling at work).\n",
    "rainmonth <- stackApply(s, 1:12, mean)"
   ]
  },
  {
   "cell_type": "code",
   "execution_count": null,
   "metadata": {},
   "outputs": [],
   "source": [
    "# set the right names\n",
    "names(rainmonth) <- month.name\n",
    "\n",
    "rainmonth\n",
    "plot(rainmonth)"
   ]
  },
  {
   "cell_type": "code",
   "execution_count": null,
   "metadata": {},
   "outputs": [],
   "source": [
    "# compute the annual average total rainfall\n",
    "rain <- sum(___________)\n",
    "plot(rain)"
   ]
  },
  {
   "cell_type": "code",
   "execution_count": null,
   "metadata": {},
   "outputs": [],
   "source": [
    "# and the monthly mean precipitation averaged over all cells\n",
    "mrain <- cellStats(rainmonth, mean)\n",
    "barplot(mrain)"
   ]
  },
  {
   "cell_type": "markdown",
   "metadata": {},
   "source": [
    "<p>We want to compare annual maize yield with annual rainfall.</p>\n",
    "<p>the Tanzania dry season is in the middle of the year \n",
    "it may be better to have \"rain-years\" that start in July and run through June\n",
    "that is a bit tricky</p>"
   ]
  },
  {
   "cell_type": "code",
   "execution_count": null,
   "metadata": {},
   "outputs": [],
   "source": [
    "# we make explicit indices to group months\n",
    "# 34 years, 12 months\n",
    "i <- rep(1:34, each=12)\n",
    "i[1:36]\n",
    "# but the first 6 months are the last 6 months of the previous rain-year\n",
    "i <- c(rep(1,6), i+1)\n",
    "i[1:36]\n",
    "# and now we need to remove the last 6 months \n",
    "i <- i[1:(length(i)-6)]\n",
    "i"
   ]
  },
  {
   "cell_type": "code",
   "execution_count": null,
   "metadata": {},
   "outputs": [],
   "source": [
    "# stackApply again, now with our new indices to get yearly totals\n",
    "ss <- stackApply(s, i, sum)\n",
    "# set the layer names\n",
    "names(ss) <- 1980:2014\n",
    "# the first and the last year are incomplete \n",
    "ss <- ss[[ -c(1, nlayers(ss)) ]]\n",
    "\n",
    "plot(ss)"
   ]
  },
  {
   "cell_type": "code",
   "execution_count": null,
   "metadata": {},
   "outputs": [],
   "source": [
    "# We only want Tanzania\n",
    "# get the extent of Tanzania\n",
    "tza <- getData('GADM', country='tza', level=1)\n",
    "ss <- mask(ss, ________)\n",
    "plot(ss)"
   ]
  },
  {
   "cell_type": "code",
   "execution_count": null,
   "metadata": {},
   "outputs": [],
   "source": [
    "# save to file\n",
    "ss <- writeRaster(ss, 'tza_annual_precipitation.grd', datatype='INT2S')\n",
    "ss"
   ]
  },
  {
   "cell_type": "code",
   "execution_count": 7,
   "metadata": {},
   "outputs": [
    {
     "ename": "ERROR",
     "evalue": "Error in cellStats(m, mean): object 'm' not found\n",
     "output_type": "error",
     "traceback": [
      "Error in cellStats(m, mean): object 'm' not found\nTraceback:\n",
      "1. cellStats(m, mean)"
     ]
    }
   ],
   "source": [
    "# compute the average monthly precipitation for the entire country\n",
    "x <- cellStats(m, mean)\n",
    "x"
   ]
  },
  {
   "cell_type": "code",
   "execution_count": null,
   "metadata": {},
   "outputs": [],
   "source": []
  }
 ],
 "metadata": {
  "kernelspec": {
   "display_name": "R",
   "language": "R",
   "name": "ir"
  },
  "language_info": {
   "codemirror_mode": "r",
   "file_extension": ".r",
   "mimetype": "text/x-r-source",
   "name": "R",
   "pygments_lexer": "r",
   "version": "3.6.2"
  }
 },
 "nbformat": 4,
 "nbformat_minor": 4
}
