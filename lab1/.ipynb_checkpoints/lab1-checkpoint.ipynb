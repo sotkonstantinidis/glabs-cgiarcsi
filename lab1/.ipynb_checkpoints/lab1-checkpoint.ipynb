{
 "cells": [
  {
   "cell_type": "code",
   "execution_count": null,
   "metadata": {},
   "outputs": [],
   "source": [
    "#import libraries\n",
    "library(sp)\n",
    "library(geojsonio)\n",
    "library(raster)"
   ]
  },
  {
   "cell_type": "code",
   "execution_count": null,
   "metadata": {},
   "outputs": [],
   "source": [
    "# Read the file \"Operating-Health-Facilities-with-location-2014.csv\" (under \"data\\tza\")\n",
    "d <- read.csv(\"Operating-Health-Facilities-with-location-2014.csv\", stringsAsFactors=FALSE)"
   ]
  },
  {
   "cell_type": "code",
   "execution_count": null,
   "metadata": {},
   "outputs": [],
   "source": [
    "# Make a plot of the locations\n",
    "plot(d[,c('LONGITUDE', 'LATITUDE')])"
   ]
  },
  {
   "cell_type": "code",
   "execution_count": null,
   "metadata": {},
   "outputs": [],
   "source": [
    "# how many of the records have missing coordinates (absolute number and rounded percentage)?\n",
    "xy <- na.omit(d[,c('LONGITUDE', 'LATITUDE')])\n",
    "nrow(d) - nrow(xy)\n",
    "round(100 - 100* (nrow(xy) / nrow(d)),1)"
   ]
  },
  {
   "cell_type": "code",
   "execution_count": null,
   "metadata": {},
   "outputs": [],
   "source": [
    "# Use the data to create a SpatialPointsDataFrame\n",
    "d <- d[!is.na(d$LONGITUDE), ]\n",
    "sp <- SpatialPoints(d[,c('LONGITUDE', 'LATITUDE')])\n",
    "sp <- SpatialPointsDataFrame(sp, d) \n",
    "\n",
    "#or\n",
    "coordinates(d) <- ~ LONGITUDE + LATITUDE"
   ]
  },
  {
   "cell_type": "code",
   "execution_count": null,
   "metadata": {},
   "outputs": [],
   "source": [
    "# Plot the SpatialPointsDataFrame object\n",
    "plot(d)"
   ]
  },
  {
   "cell_type": "code",
   "execution_count": null,
   "metadata": {},
   "outputs": [],
   "source": [
    "# Coordinate reference system (CRS)\n",
    "# what is the coordinate reference system of this object?\n",
    "proj4string(d)\n",
    "\n",
    "# change this to what it should be\n",
    "proj4string(d) <- CRS(\"+proj=longlat +datum=WGS84\")\n",
    "\n",
    "# or\n",
    "crs(d) <- \"+proj=longlat +datum=WGS84\""
   ]
  },
  {
   "cell_type": "code",
   "execution_count": null,
   "metadata": {},
   "outputs": [],
   "source": [
    "# Subsetting\n",
    "# Use the SpatialPointsDataFrame we have to create one for only the Northern zone \n",
    "north <- d[d$ZONE == 'Northern', ]\n",
    "# Use the SpatialPointsDataFrame you just made to create one for only Arusha Region \n",
    "arusha <- north[north$REGION == 'Arusha', ]"
   ]
  },
  {
   "cell_type": "code",
   "execution_count": null,
   "metadata": {},
   "outputs": [],
   "source": [
    "# Get a SpatialPolygonsDataFrame for Tanzanian boundaries\n",
    "tza <- getData('GADM', country='TZA', level=1)\n",
    "tza"
   ]
  },
  {
   "cell_type": "code",
   "execution_count": null,
   "metadata": {},
   "outputs": [],
   "source": [
    "# for all points, determine the Region in which they are, according to the Tanzania polygons\n",
    "e <- extract(tza[, 'NAME_1'], d)\n",
    "\n",
    "# or\n",
    "crs(d) <- crs(tza)\n",
    "e2 <- over(d, tza[, 'NAME_1'])"
   ]
  },
  {
   "cell_type": "code",
   "execution_count": null,
   "metadata": {},
   "outputs": [],
   "source": [
    "# Are these the same as is specificied in the csv file?\n",
    "# a) find the cases that are different\n",
    "i <- which(e$NAME_1 != d$REGION) \n",
    "\n",
    "# b) how many?\n",
    "lenght(i)\n",
    "\n",
    "# c) plot them\n",
    "plot(tza)\n",
    "points(d[i,])\n",
    "\n",
    "plot(tza, border='gray')\n",
    "text(tza, 'NAME_1', col='blue', cex=.75)\n",
    "points(d[i,], pch=20, col='red')\n",
    "text(d[i,], 'REGION', cex=.5)"
   ]
  },
  {
   "cell_type": "code",
   "execution_count": null,
   "metadata": {},
   "outputs": [],
   "source": [
    "# now transform the points and polygons object to a planar coordinate reference system \n",
    "# that is appropriate for all of Tanzania, and plot them together on a simple map\n",
    "\n",
    "# cannot use UTM (would need multiple zones)\n",
    "# http://www.spatialreference.org/ref/sr-org/8225/\n",
    "\n",
    "cr <- CRS(\"+proj=laea +lat_0=-10 +lon_0=35 +x_0=0 +y_0=0 +datum=WGS84 +units=m\")\n",
    "# or \n",
    "cr <- CRS(\"+proj=laea +lat_0=-10 +lon_0=35 +datum=WGS84\")\n",
    "\n",
    "ptza <- spTransform(tza, cr)\n",
    "pd <- spTransform(d, cr)"
   ]
  },
  {
   "cell_type": "code",
   "execution_count": null,
   "metadata": {},
   "outputs": [],
   "source": [
    "# the polygons have regions, but not he higher level \"zones\". \n",
    "# create a SpatialPolyognsDataFrame for the zones. \n",
    "# the Health-Facilities data have the information you need\n",
    "# a. make a data.frame with each REGIONs and its matching ZONE \n",
    "x <- unique(data.frame(d)[,c('REGION', 'ZONE')])\n",
    "\n",
    "# b. combine that with the SpatialPolygons we have\n",
    "tza <- merge(tza, x, by.x='NAME_1', by.y='REGION')\n",
    "\n",
    "# c. dissolve the region boundaries into zones\n",
    "zones <- aggregate(tza, by='ZONE')\n",
    "\n",
    "# d plot\n",
    "plot(zones)\n",
    "text(zones, 'ZONE')"
   ]
  },
  {
   "cell_type": "code",
   "execution_count": null,
   "metadata": {},
   "outputs": [],
   "source": [
    "# save as shapefile\n",
    "shapefile(zones, 'zones.shp')"
   ]
  },
  {
   "cell_type": "code",
   "execution_count": null,
   "metadata": {},
   "outputs": [],
   "source": [
    "# read the shapefile again\n",
    "z <- shapefile(\"zones.shp\")\n",
    "z"
   ]
  }
 ],
 "metadata": {
  "kernelspec": {
   "display_name": "R",
   "language": "R",
   "name": "ir"
  },
  "language_info": {
   "codemirror_mode": "r",
   "file_extension": ".r",
   "mimetype": "text/x-r-source",
   "name": "R",
   "pygments_lexer": "r",
   "version": "3.6.2"
  }
 },
 "nbformat": 4,
 "nbformat_minor": 4
}
