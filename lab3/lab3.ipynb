{
 "cells": [
  {
   "cell_type": "markdown",
   "metadata": {},
   "source": [
    "<h3>Lab 3</h3>\n",
    "<p>Original source can be found <a href=\"https://gfc.ucdavis.edu/events/ifpri/html/spatial.html\">here</a></p>"
   ]
  },
  {
   "cell_type": "code",
   "execution_count": null,
   "metadata": {},
   "outputs": [],
   "source": [
    "# Ex 1\n",
    "\n",
    "v0 <- readRDS('TZA_adm0.rds')\n",
    "plot(v0, border = \"red\", lwd = 3, col = 'grey')\n",
    "title(main = \"Tanzania national boundary\", sub = \"source GADM\")"
   ]
  },
  {
   "cell_type": "code",
   "execution_count": null,
   "metadata": {},
   "outputs": [],
   "source": [
    "# Ex 2\n",
    "\n",
    "v2 <- readRDS('TZA_adm2.rds')\n",
    "# Each region should have different color; we will use the color ramp\n",
    "n <- length(v2$NAME_2)\n",
    "plot(v2, col=rainbow(n), main = 'Administrative boundary: level 2')\n",
    "# you can change the color ramp based on your choice"
   ]
  },
  {
   "cell_type": "code",
   "execution_count": null,
   "metadata": {},
   "outputs": [],
   "source": [
    "# Ex 3\n",
    "\n",
    "plot(v0, border = \"grey\", lwd = 2,  axes = TRUE)\n",
    "plot(rv, col='lightblue', add = TRUE)\n",
    "title(main = \"Tanzania rivers\")\n",
    "# Add some more details\n",
    "legend('bottomleft', legend = 'River', lty = 1, lwd = 2, col = 'lightblue', bty = \"n\")"
   ]
  },
  {
   "cell_type": "code",
   "execution_count": null,
   "metadata": {},
   "outputs": [],
   "source": [
    "# Ex 4\n",
    "\n",
    "brks <- seq(2,7,0.1)\n",
    "spplot(ph,\n",
    "       at = round(brks, digits=2),\n",
    "       col.regions = cm.colors(length(brks)), colorkey = list(space = \"bottom\"), \n",
    "       main = list(label=\"Soil pH\",  cex = 1))\n"
   ]
  },
  {
   "cell_type": "code",
   "execution_count": null,
   "metadata": {},
   "outputs": [],
   "source": [
    "# Ex 5\n",
    "\n",
    "pols1 <- list(\"sp.lines\", as(v0, 'SpatialLines'), col = gray(0.4), lwd = 0.5)\n",
    "pols2 <- list(\"sp.polygons\", as(lake, 'SpatialPolygons'), fill = 'skyblue1',col=\"transparent\", first = FALSE)\n",
    "pols3 <- list(\"sp.polygons\", as(protarea, 'SpatialPolygons'), fill = 'transparent',col=\"darkgreen\", first = FALSE)\n",
    "\n",
    "brks <- seq(0,60,0.5)\n",
    "spplot(orc,\n",
    "       sp.layout=list(pols1, pols2, pols3),\n",
    "       at = round(brks, digits=2),\n",
    "       col.regions = rev(terrain.colors(length(brks))), colorkey = list(space = \"bottom\"), \n",
    "       main = list(label=\"Soil organic carbon content\",  cex = 1))\n"
   ]
  },
  {
   "cell_type": "code",
   "execution_count": null,
   "metadata": {},
   "outputs": [],
   "source": []
  }
 ],
 "metadata": {
  "kernelspec": {
   "display_name": "R",
   "language": "R",
   "name": "ir"
  },
  "language_info": {
   "codemirror_mode": "r",
   "file_extension": ".r",
   "mimetype": "text/x-r-source",
   "name": "R",
   "pygments_lexer": "r",
   "version": "3.6.2"
  }
 },
 "nbformat": 4,
 "nbformat_minor": 4
}
