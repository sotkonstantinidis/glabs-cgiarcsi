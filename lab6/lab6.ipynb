{
 "cells": [
  {
   "cell_type": "markdown",
   "metadata": {},
   "source": [
    "<h3>climatrends</h3>\n",
    "<p>The library can and the following examples can be found <a href=\"https://github.com/agrobioinfoservices/climatrends\">here</a></p>"
   ]
  },
  {
   "cell_type": "code",
   "execution_count": null,
   "metadata": {},
   "outputs": [],
   "source": [
    "library(\"devtools\")\n",
    "library(\"climatrends\")"
   ]
  },
  {
   "cell_type": "code",
   "execution_count": null,
   "metadata": {},
   "outputs": [],
   "source": [
    "set.seed(6)\n",
    "lonlat <- data.frame(lon = runif(5, 8.3, 12),\n",
    "                     lat = runif(5, 60, 62.3))\n",
    "\n",
    "date <- as.Date(\"2015-05-01\", format = \"%Y-%m-%d\")\n",
    "\n",
    "temp <- temperature(lonlat, day.one = date, span = 50)\n",
    "\n",
    "head(temp)"
   ]
  }
 ],
 "metadata": {
  "kernelspec": {
   "display_name": "R",
   "language": "R",
   "name": "ir"
  },
  "language_info": {
   "codemirror_mode": "r",
   "file_extension": ".r",
   "mimetype": "text/x-r-source",
   "name": "R",
   "pygments_lexer": "r",
   "version": "3.6.2"
  }
 },
 "nbformat": 4,
 "nbformat_minor": 4
}
