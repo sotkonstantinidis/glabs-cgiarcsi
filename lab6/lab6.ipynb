{
 "cells": [
  {
   "cell_type": "markdown",
   "metadata": {},
   "source": [
    "<h3>climatrends</h3>\n",
    "<p>The library can and the following examples can be found <a href=\"https://github.com/agrobioinfoservices/climatrends\">here</a></p>"
   ]
  },
  {
   "cell_type": "code",
   "execution_count": 8,
   "metadata": {},
   "outputs": [
    {
     "name": "stderr",
     "output_type": "stream",
     "text": [
      "Warning message in install.packages(\"rgeos\", type = \"source\"):\n",
      "“installation of package ‘rgeos’ had non-zero exit status”\n",
      "Updating HTML index of packages in '.Library'\n",
      "\n",
      "Making 'packages.html' ...\n",
      " done\n",
      "\n"
     ]
    },
    {
     "ename": "ERROR",
     "evalue": "Error in library(\"rgeos\"): there is no package called ‘rgeos’\n",
     "output_type": "error",
     "traceback": [
      "Error in library(\"rgeos\"): there is no package called ‘rgeos’\nTraceback:\n",
      "1. library(\"rgeos\")"
     ]
    }
   ],
   "source": [
    "library(\"devtools\")\n",
    "library(\"climatrends\")\n"
   ]
  },
  {
   "cell_type": "code",
   "execution_count": 5,
   "metadata": {},
   "outputs": [
    {
     "data": {
      "text/html": [
       "<table>\n",
       "<caption>A tibble: 5 × 8</caption>\n",
       "<thead>\n",
       "\t<tr><th scope=col>maxDT</th><th scope=col>minDT</th><th scope=col>maxNT</th><th scope=col>minNT</th><th scope=col>DTR</th><th scope=col>SU</th><th scope=col>TR</th><th scope=col>CFD</th></tr>\n",
       "\t<tr><th scope=col>&lt;dbl&gt;</th><th scope=col>&lt;dbl&gt;</th><th scope=col>&lt;dbl&gt;</th><th scope=col>&lt;dbl&gt;</th><th scope=col>&lt;dbl&gt;</th><th scope=col>&lt;dbl&gt;</th><th scope=col>&lt;dbl&gt;</th><th scope=col>&lt;dbl&gt;</th></tr>\n",
       "</thead>\n",
       "<tbody>\n",
       "\t<tr><td>12.81</td><td>-0.58</td><td>3.61</td><td>-10.84</td><td>7.3642</td><td>0</td><td>0</td><td>13</td></tr>\n",
       "\t<tr><td>13.39</td><td> 0.66</td><td>3.84</td><td> -7.60</td><td>7.0218</td><td>0</td><td>0</td><td>12</td></tr>\n",
       "\t<tr><td>10.68</td><td>-1.48</td><td>2.43</td><td>-11.29</td><td>7.1188</td><td>0</td><td>0</td><td>40</td></tr>\n",
       "\t<tr><td>14.08</td><td> 1.53</td><td>3.94</td><td> -6.85</td><td>8.4370</td><td>0</td><td>0</td><td>12</td></tr>\n",
       "\t<tr><td>19.64</td><td> 5.82</td><td>8.24</td><td> -2.40</td><td>8.2278</td><td>0</td><td>0</td><td> 1</td></tr>\n",
       "</tbody>\n",
       "</table>\n"
      ],
      "text/latex": [
       "A tibble: 5 × 8\n",
       "\\begin{tabular}{llllllll}\n",
       " maxDT & minDT & maxNT & minNT & DTR & SU & TR & CFD\\\\\n",
       " <dbl> & <dbl> & <dbl> & <dbl> & <dbl> & <dbl> & <dbl> & <dbl>\\\\\n",
       "\\hline\n",
       "\t 12.81 & -0.58 & 3.61 & -10.84 & 7.3642 & 0 & 0 & 13\\\\\n",
       "\t 13.39 &  0.66 & 3.84 &  -7.60 & 7.0218 & 0 & 0 & 12\\\\\n",
       "\t 10.68 & -1.48 & 2.43 & -11.29 & 7.1188 & 0 & 0 & 40\\\\\n",
       "\t 14.08 &  1.53 & 3.94 &  -6.85 & 8.4370 & 0 & 0 & 12\\\\\n",
       "\t 19.64 &  5.82 & 8.24 &  -2.40 & 8.2278 & 0 & 0 &  1\\\\\n",
       "\\end{tabular}\n"
      ],
      "text/markdown": [
       "\n",
       "A tibble: 5 × 8\n",
       "\n",
       "| maxDT &lt;dbl&gt; | minDT &lt;dbl&gt; | maxNT &lt;dbl&gt; | minNT &lt;dbl&gt; | DTR &lt;dbl&gt; | SU &lt;dbl&gt; | TR &lt;dbl&gt; | CFD &lt;dbl&gt; |\n",
       "|---|---|---|---|---|---|---|---|\n",
       "| 12.81 | -0.58 | 3.61 | -10.84 | 7.3642 | 0 | 0 | 13 |\n",
       "| 13.39 |  0.66 | 3.84 |  -7.60 | 7.0218 | 0 | 0 | 12 |\n",
       "| 10.68 | -1.48 | 2.43 | -11.29 | 7.1188 | 0 | 0 | 40 |\n",
       "| 14.08 |  1.53 | 3.94 |  -6.85 | 8.4370 | 0 | 0 | 12 |\n",
       "| 19.64 |  5.82 | 8.24 |  -2.40 | 8.2278 | 0 | 0 |  1 |\n",
       "\n"
      ],
      "text/plain": [
       "  maxDT minDT maxNT minNT  DTR    SU TR CFD\n",
       "1 12.81 -0.58 3.61  -10.84 7.3642 0  0  13 \n",
       "2 13.39  0.66 3.84   -7.60 7.0218 0  0  12 \n",
       "3 10.68 -1.48 2.43  -11.29 7.1188 0  0  40 \n",
       "4 14.08  1.53 3.94   -6.85 8.4370 0  0  12 \n",
       "5 19.64  5.82 8.24   -2.40 8.2278 0  0   1 "
      ]
     },
     "metadata": {},
     "output_type": "display_data"
    }
   ],
   "source": [
    "set.seed(6)\n",
    "lonlat <- data.frame(lon = runif(5, 8.3, 12),\n",
    "                     lat = runif(5, 60, 62.3))\n",
    "\n",
    "date <- as.Date(\"2015-05-01\", format = \"%Y-%m-%d\")\n",
    "\n",
    "temp <- temperature(lonlat, day.one = date, span = 50)\n",
    "\n",
    "head(temp)"
   ]
  }
 ],
 "metadata": {
  "kernelspec": {
   "display_name": "R",
   "language": "R",
   "name": "ir"
  },
  "language_info": {
   "codemirror_mode": "r",
   "file_extension": ".r",
   "mimetype": "text/x-r-source",
   "name": "R",
   "pygments_lexer": "r",
   "version": "3.6.2"
  }
 },
 "nbformat": 4,
 "nbformat_minor": 4
}
